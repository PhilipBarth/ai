{
 "cells": [
  {
   "cell_type": "code",
   "execution_count": 10,
   "id": "f7d7ad1e",
   "metadata": {},
   "outputs": [
    {
     "name": "stdout",
     "output_type": "stream",
     "text": [
      "Done\n"
     ]
    }
   ],
   "source": [
    "import pandas as pd\n",
    "import numpy as np\n",
    "from sklearn.model_selection import train_test_split\n",
    "from sklearn.ensemble import RandomForestRegressor\n",
    "from sklearn.metrics import mean_absolute_error, mean_squared_error, r2_score\n",
    "from sklearn.preprocessing import LabelEncoder, MinMaxScaler\n",
    "\n",
    "# Load dataset\n",
    "ds = pd.read_csv(\"collisions.csv\", low_memory=False)\n",
    "\n",
    "# rename columns\n",
    "ds = ds.rename(columns={'CRASH DATE' : 'Date', 'CRASH TIME' : 'Time', 'ON STREET NAME' : 'Street', \n",
    "                        'VEHICLE TYPE CODE 1' : 'Vehicle 1', 'VEHICLE TYPE CODE 2' : 'Vehicle 2',\n",
    "                        'VEHICLE TYPE CODE 3' : 'Vehicle 3', 'VEHICLE TYPE CODE 4' : 'Vehicle 4',\n",
    "                        'VEHICLE TYPE CODE 5' : 'Vehicle 5'})\n",
    "\n",
    "# List of columns you want to keep\n",
    "columns_to_keep = ['Date', 'Time', 'Street', 'Vehicle 1', 'Vehicle 2', 'Vehicle 3', 'Vehicle 4','Vehicle 5']\n",
    "ds = ds[columns_to_keep]\n",
    "\n",
    "\n",
    "# Remove rows where Date, Time, Street, or Vehicle 1 is empty\n",
    "ds = ds.dropna(subset=['Date', 'Time', 'Street', 'Vehicle 1'])\n",
    "\n",
    "# Preprocess the date column into timestamps\n",
    "ds['Date'] = pd.to_datetime(ds['Date'])\n",
    "ds['Date'] = (ds['Date'] - pd.Timestamp(\"2010-01-01\")) // pd.Timedelta('1s')\n",
    "\n",
    "# Preprocess the time column into minutes from midnight\n",
    "ds['Time'] = pd.to_datetime(ds['Time'], format='%H:%M').dt.time\n",
    "ds['Time'] = ds['Time'].apply(lambda t: t.hour * 60 + t.minute)\n",
    "\n",
    "print('Done')"
   ]
  },
  {
   "cell_type": "code",
   "execution_count": 11,
   "id": "fb579470",
   "metadata": {},
   "outputs": [
    {
     "name": "stdout",
     "output_type": "stream",
     "text": [
      "Done\n"
     ]
    }
   ],
   "source": [
    "le = LabelEncoder()\n",
    "\n",
    "def count_vehicles_not_in(row, exclude_set):\n",
    "    count = 0\n",
    "    for vehicle in row:\n",
    "        if pd.isna(vehicle):\n",
    "            continue\n",
    "        vehicle_lower = str(vehicle).lower()\n",
    "        if vehicle_lower not in exclude_set:\n",
    "            count += 1\n",
    "    return count\n",
    "\n",
    "def count_vehicles_in(row, exclude_set):\n",
    "    count = 0\n",
    "    for vehicle in row:\n",
    "        if pd.isna(vehicle):\n",
    "            continue\n",
    "        vehicle_lower = str(vehicle).lower()\n",
    "        if vehicle_lower in exclude_set:\n",
    "            count += 1\n",
    "    return count\n",
    "\n",
    "vehicle_columns = ['Vehicle 1', 'Vehicle 2', 'Vehicle 3', 'Vehicle 4', 'Vehicle 5']\n",
    "ds['danger_level_car'] = ds[vehicle_columns].apply(count_vehicles_not_in, args= ({'bike', 'e-bike', 'ebike', 'e-scooter', 'escooter', 'bicycle', 'motorcycle', 'motorscooter', 'moped'},), axis=1)\n",
    "ds['danger_level_bike'] = ds[vehicle_columns].apply(count_vehicles_in, args= ({'bike', 'e-bike', 'ebike', 'e-scooter', 'escooter', 'bicycle'},), axis=1)\n",
    "ds['danger_level_motorcycle'] = ds[vehicle_columns].apply(count_vehicles_in, args= ({'motorcycle', 'motorscooter', 'moped'},), axis=1)\n",
    "\n",
    "print('Done')"
   ]
  },
  {
   "cell_type": "code",
   "execution_count": 12,
   "id": "6d8d937a",
   "metadata": {},
   "outputs": [
    {
     "name": "stdout",
     "output_type": "stream",
     "text": [
      "Mean Absolute Error (MAE): 3.1928862458671663\n",
      "Mean Squared Error (MSE): 32.51760908599156\n",
      "R-squared: 0.827139243759575\n"
     ]
    }
   ],
   "source": [
    "# Fit the LabelEncoder on the entire dataset before splitting\n",
    "le = LabelEncoder()\n",
    "all_streets = pd.concat([ds['Street'], ds['Vehicle 1'], ds['Vehicle 2'], ds['Vehicle 3'], ds['Vehicle 4'], ds['Vehicle 5']])\n",
    "le.fit(all_streets)\n",
    "\n",
    "# Split data\n",
    "X = ds[['Date', 'Time', 'Street', 'Vehicle 1', 'Vehicle 2', 'Vehicle 3', 'Vehicle 4', 'Vehicle 5']]\n",
    "Y = ds[['danger_level_car', 'danger_level_bike', 'danger_level_motorcycle']]\n",
    "\n",
    "X_train, X_test, Y_train, Y_test = train_test_split(X, Y, test_size=0.2)\n",
    "\n",
    "# Label encoding and scaling for training set\n",
    "for column in ['Street', 'Vehicle 1', 'Vehicle 2', 'Vehicle 3', 'Vehicle 4', 'Vehicle 5']:\n",
    "    X_train[column] = le.transform(X_train[column])\n",
    "\n",
    "# Initialize a new scaler for danger levels\n",
    "scaler = MinMaxScaler(feature_range=(0, 100))\n",
    "for level in ['danger_level_car', 'danger_level_bike', 'danger_level_motorcycle']:\n",
    "    Y_train[level] = scaler.fit_transform(Y_train[level].values.reshape(-1, 1))\n",
    "    \n",
    "    # Label encoding and scaling for test set\n",
    "# NOTE: Use the same encoder object as used for the training set.\n",
    "for column in ['Street', 'Vehicle 1', 'Vehicle 2', 'Vehicle 3', 'Vehicle 4', 'Vehicle 5']:\n",
    "    X_test[column] = le.transform(X_test[column])\n",
    "\n",
    "for level in ['danger_level_car', 'danger_level_bike', 'danger_level_motorcycle']:\n",
    "    Y_test[level] = scaler.transform(Y_test[level].values.reshape(-1, 1))\n",
    "\n",
    "# Train model\n",
    "model = RandomForestRegressor()\n",
    "model.fit(X_train, Y_train)\n",
    "\n",
    "# Evaluate model\n",
    "predictions = model.predict(X_test)\n",
    "\n",
    "# Calculate the performance metrics\n",
    "mae = mean_absolute_error(Y_test, predictions)\n",
    "mse = mean_squared_error(Y_test, predictions)\n",
    "r2 = r2_score(Y_test, predictions)\n",
    "\n",
    "# Output the metrics\n",
    "print(f'Mean Absolute Error (MAE): {mae}')\n",
    "print(f'Mean Squared Error (MSE): {mse}')\n",
    "print(f'R-squared: {r2}')"
   ]
  }
 ],
 "metadata": {
  "kernelspec": {
   "display_name": "Python 3 (ipykernel)",
   "language": "python",
   "name": "python3"
  },
  "language_info": {
   "codemirror_mode": {
    "name": "ipython",
    "version": 3
   },
   "file_extension": ".py",
   "mimetype": "text/x-python",
   "name": "python",
   "nbconvert_exporter": "python",
   "pygments_lexer": "ipython3",
   "version": "3.10.9"
  }
 },
 "nbformat": 4,
 "nbformat_minor": 5
}
