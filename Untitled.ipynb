{
 "cells": [
  {
   "cell_type": "code",
   "execution_count": 1,
   "id": "da11cf5f",
   "metadata": {
    "scrolled": true
   },
   "outputs": [],
   "source": [
    "import pandas as pd\n",
    "import time\n",
    "import numpy as np\n",
    "from sklearn.linear_model import LinearRegression\n",
    "from sklearn.model_selection import train_test_split\n",
    "from sklearn.metrics import mean_absolute_error, mean_squared_error, r2_score\n",
    "from sklearn.preprocessing import LabelEncoder, MinMaxScaler"
   ]
  },
  {
   "cell_type": "code",
   "execution_count": 2,
   "id": "ffe3ec2f",
   "metadata": {},
   "outputs": [],
   "source": [
    "#Read dataset\n",
    "df = pd.read_csv(\"collisions.csv\", low_memory=False)\n",
    "\n",
    "#Contained Columns:\n",
    "#CRASH DATE,CRASH TIME,BOROUGH,ZIP CODE,LATITUDE,LONGITUDE,LOCATION,ON STREET NAME,CROSS STREET NAME,OFF STREET NAME,\n",
    "#NUMBER OF PERSONS INJURED,NUMBER OF PERSONS KILLED,NUMBER OF PEDESTRIANS INJURED,NUMBER OF PEDESTRIANS KILLED,\n",
    "#NUMBER OF CYCLIST INJURED,NUMBER OF CYCLIST KILLED,NUMBER OF MOTORIST INJURED,NUMBER OF MOTORIST KILLED,\n",
    "#CONTRIBUTING FACTOR VEHICLE 1,CONTRIBUTING FACTOR VEHICLE 2,CONTRIBUTING FACTOR VEHICLE 3,\n",
    "#CONTRIBUTING FACTOR VEHICLE 4,CONTRIBUTING FACTOR VEHICLE 5,\n",
    "#COLLISION_ID,\n",
    "#VEHICLE TYPE CODE 1,VEHICLE TYPE CODE 2,VEHICLE TYPE CODE 3,VEHICLE TYPE CODE 4,VEHICLE TYPE CODE 5"
   ]
  },
  {
   "cell_type": "code",
   "execution_count": 3,
   "id": "5a9b75a6",
   "metadata": {},
   "outputs": [],
   "source": [
    "#Preprocess the data\n",
    "\n",
    "#rename columns\n",
    "df = df.rename(columns={'CRASH DATE' : 'Date', 'CRASH TIME' : 'Time', 'ON STREET NAME' : 'Street', \n",
    "                        'VEHICLE TYPE CODE 1' : 'Vehicle 1', 'VEHICLE TYPE CODE 2' : 'Vehicle 2',\n",
    "                        'VEHICLE TYPE CODE 3' : 'Vehicle 3', 'VEHICLE TYPE CODE 4' : 'Vehicle 4',\n",
    "                        'VEHICLE TYPE CODE 5' : 'Vehicle 5', 'NUMBER OF PERSONS INJURED':'Injuries', \n",
    "                        'NUMBER OF PERSONS KILLED': 'Deaths'})\n",
    "\n",
    "# Keep rows fith defined 'street', 'crash time' and Vehicle Type 1\n",
    "df = df.dropna(subset=['Date','Street', 'Time', 'Vehicle 1'])\n",
    "\n",
    "# Preprocess the date column into timestamps\n",
    "df['Date'] = pd.to_datetime(df['Date'])\n",
    "df['Date'] = (df['Date'] - pd.Timestamp(\"2010-01-01\")) // pd.Timedelta('1s')\n",
    "\n",
    "# Preprocess the time column into minutes from midnight\n",
    "df['Time'] = pd.to_datetime(df['Time'], format='%H:%M').dt.time\n",
    "df['Time'] = df['Time'].apply(lambda t: t.hour * 60 + t.minute)\n",
    "\n",
    "# Format dataset for uniform strings\n",
    "df['Street'] = df['Street'].str.upper()\n",
    "df['Vehicle 1'] = df['Vehicle 1'].str.upper()\n",
    "df['Vehicle 2'] = df['Vehicle 2'].str.upper()\n",
    "df['Vehicle 3'] = df['Vehicle 3'].str.upper()\n",
    "df['Vehicle 4'] = df['Vehicle 4'].str.upper()\n",
    "df['Vehicle 5'] = df['Vehicle 5'].str.upper()\n",
    "\n",
    "##List of columns we keep\n",
    "columns_to_keep = ['Date', 'Time', 'Street', 'Vehicle 1', 'Vehicle 2', 'Vehicle 3', 'Vehicle 4','Vehicle 5','Injuries','Deaths']\n",
    "df = df[columns_to_keep]"
   ]
  },
  {
   "cell_type": "code",
   "execution_count": 4,
   "id": "06492e18",
   "metadata": {
    "scrolled": false
   },
   "outputs": [],
   "source": [
    "#Limit dataframe size\n",
    "new_df = pd.DataFrame.from_records(df[:100000])  \n",
    "\n",
    "\n",
    "# Create a list of the columns that represent vehicle types\n",
    "vehicle_columns = ['Vehicle 1', 'Vehicle 2', 'Vehicle 3', 'Vehicle 4','Vehicle 5']\n",
    "\n",
    "def count_vehicles_not_in(row, exclude_set):\n",
    "    count = 0\n",
    "    for vehicle in row:\n",
    "        if pd.isna(vehicle):\n",
    "            continue\n",
    "        vehicle_upper = str(vehicle).upper()\n",
    "        if vehicle_upper not in exclude_set:\n",
    "            count += 1\n",
    "    return count\n",
    "\n",
    "def count_vehicles_in(row, exclude_set):\n",
    "    count = 0\n",
    "    for vehicle in row:\n",
    "        if pd.isna(vehicle):\n",
    "            continue\n",
    "        vehicle_upper = str(vehicle).upper()\n",
    "        if vehicle_upper in exclude_set:\n",
    "            count += 1\n",
    "    return count\n",
    "\n",
    "new_df['CARS_INVOLVED'] = new_df[vehicle_columns].apply(count_vehicles_not_in, args= ({'BIKE', 'E-BIKE', 'EBIKE', 'E-SCOOTER', 'ESCOOTER', 'BICYCLE', 'MOTORCYCLE', 'MOTORSCOOTER', 'MOPED'},), axis=1)\n",
    "new_df['BIKES_INVOLVED'] = new_df[vehicle_columns].apply(count_vehicles_in, args= ({'BIKE', 'E-BIKE', 'EBIKE', 'E-SCOOTER', 'ESCOOTER', 'BICYCLE'},), axis=1)\n",
    "new_df['MOTORBIKES_INVOLVED'] = new_df[vehicle_columns].apply(count_vehicles_in, args= ({'MOTORCYCLE', 'MOTORSCOOTER', 'MOPED'},), axis=1)"
   ]
  },
  {
   "cell_type": "code",
   "execution_count": 5,
   "id": "3347ca3f",
   "metadata": {},
   "outputs": [
    {
     "name": "stdout",
     "output_type": "stream",
     "text": [
      "            Date  Time                        Street  CARS_INVOLVED  \\\n",
      "0      337478400   159         WHITESTONE EXPRESSWAY              2   \n",
      "1      322876800   705       QUEENSBORO BRIDGE UPPER              1   \n",
      "2      331084800   415            THROGS NECK BRIDGE              2   \n",
      "3      324518400   767  MAJOR DEEGAN EXPRESSWAY RAMP              2   \n",
      "4      345600000  1025    BROOKLYN QUEENS EXPRESSWAY              2   \n",
      "...          ...   ...                           ...            ...   \n",
      "99995  329270400  1285                 WATSON AVENUE              2   \n",
      "99996  329270400  1005                SPRAGUE AVENUE              1   \n",
      "99997  329356800     0                     94 AVENUE              1   \n",
      "99998  329356800   797                      8 AVENUE              1   \n",
      "99999  329443200  1275                     90 STREET              1   \n",
      "\n",
      "       BIKES_INVOLVED  MOTORBIKES_INVOLVED  Injuries  Deaths  \n",
      "0                   0                    0       2.0     0.0  \n",
      "1                   0                    0       1.0     0.0  \n",
      "2                   0                    0       0.0     0.0  \n",
      "3                   0                    0       0.0     0.0  \n",
      "4                   0                    0       0.0     0.0  \n",
      "...               ...                  ...       ...     ...  \n",
      "99995               0                    0       0.0     0.0  \n",
      "99996               0                    0       1.0     0.0  \n",
      "99997               0                    0       0.0     0.0  \n",
      "99998               1                    0       1.0     0.0  \n",
      "99999               0                    0       0.0     0.0  \n",
      "\n",
      "[100000 rows x 8 columns]\n"
     ]
    }
   ],
   "source": [
    "# Now the 'new_df' DataFrame contains the transformed data\n",
    "needed_columns = ['Date', 'Time', 'Street','CARS_INVOLVED','BIKES_INVOLVED', 'MOTORBIKES_INVOLVED','Injuries', 'Deaths']\n",
    "\n",
    "new_df = new_df[needed_columns]\n",
    "\n",
    "print(new_df)"
   ]
  },
  {
   "cell_type": "code",
   "execution_count": 6,
   "id": "75e51ac3",
   "metadata": {},
   "outputs": [],
   "source": [
    "car_rows = new_df[new_df['CARS_INVOLVED'] > 0]\n",
    "bike_rows = new_df[new_df['BIKES_INVOLVED'] > 0]\n",
    "motorbike_rows = new_df[new_df['MOTORBIKES_INVOLVED'] > 0]\n",
    "\n",
    "maxVehicle = {\n",
    "    'CARS': new_df['CARS_INVOLVED'].max(),\n",
    "    'BIKES': new_df['BIKES_INVOLVED'].max(),\n",
    "    'MOTORBIKES': new_df['MOTORBIKES_INVOLVED'].max()\n",
    "}\n",
    "maxDeaths = {\n",
    "    'CARS': car_rows['Deaths'].max(),\n",
    "    'BIKES': bike_rows['Deaths'].max(),\n",
    "    'MOTORBIKES': motorbike_rows['Deaths'].max()\n",
    "}\n",
    "maxInjuries = {\n",
    "    'CARS': car_rows['Injuries'].max(),\n",
    "    'BIKES': bike_rows['Injuries'].max(),\n",
    "    'MOTORBIKES': motorbike_rows['Injuries'].max()\n",
    "}\n",
    "\n",
    "# Function for calculating the severity of death count\n",
    "def calculate_death_weight(number):\n",
    "    if number == 0:\n",
    "        return 0.0\n",
    "    else:\n",
    "        return 1 - (0.5 ** number)\n",
    "\n",
    "#Function for calculating the severity of injury count\n",
    "def calculate_injury_weight(number):\n",
    "    if number == 0:\n",
    "        return 0.0\n",
    "    else:\n",
    "        return 1 - ((1 - 0.1) ** number)\n",
    "    \n",
    "# Assuming your dataset is stored in a pandas DataFrame called 'df'\n",
    "# and the columns are named 'Injuries', 'Deaths', 'Car_count', 'Bike_count', 'Motorbike_count', 'Streetname'\n",
    "\n",
    "# The scoring mechanism\n",
    "def calculate_danger_score(row,vehicle_type):\n",
    "    involved_vehicles = row[f'{vehicle_type}_INVOLVED']\n",
    "    \n",
    "    # Calculate the danger score\n",
    "    danger_score = ((calculate_injury_weight(row['Injuries']) +\n",
    "                    calculate_death_weight(row['Deaths'])) * involved_vehicles)\n",
    "    \n",
    "    # Normalize the danger score to a 0-100 range\n",
    "    max_score = ((calculate_injury_weight(maxInjuries[vehicle_type]) +\n",
    "                 calculate_death_weight(maxDeaths[vehicle_type])) * involved_vehicles)\n",
    "    \n",
    "    danger_score_normalized = (danger_score / max_score) * 100 if max_score > 0 else 0\n",
    "    \n",
    "    return danger_score_normalized\n",
    "\n",
    "# Create a list of vehicle types\n",
    "vehicle_types = ['CARS', 'BIKES', 'MOTORBIKES']\n",
    "\n",
    "# Calculate the score for each vehicle type and create new columns\n",
    "for vehicle_type in vehicle_types:\n",
    "    new_df[f'{vehicle_type}_DANGERSCORE'] = new_df.apply(calculate_danger_score, args={vehicle_type}, axis=1)\n",
    "\n",
    "# Now the DataFrame contains new columns with the scores for each vehicle type (e.g., 'cars_score', 'bikes_score', 'motorbikes_score')"
   ]
  },
  {
   "cell_type": "code",
   "execution_count": 7,
   "id": "e83aeca1",
   "metadata": {
    "scrolled": true
   },
   "outputs": [
    {
     "name": "stdout",
     "output_type": "stream",
     "text": [
      "            Date  Time           Street  CARS_INVOLVED  BIKES_INVOLVED  \\\n",
      "85066  332035200  1247  HYLAN BOULEVARD              2               0   \n",
      "\n",
      "       MOTORBIKES_INVOLVED  Injuries  Deaths  CARS_DANGERSCORE  \\\n",
      "85066                    0       6.0     3.0         72.225846   \n",
      "\n",
      "       BIKES_DANGERSCORE  MOTORBIKES_DANGERSCORE  \n",
      "85066                0.0                     0.0  \n"
     ]
    }
   ],
   "source": [
    "print(new_df[new_df['CARS_DANGERSCORE'] > 60])"
   ]
  },
  {
   "cell_type": "code",
   "execution_count": 8,
   "id": "8d952c00",
   "metadata": {
    "scrolled": true
   },
   "outputs": [
    {
     "name": "stdout",
     "output_type": "stream",
     "text": [
      "            Date  Time                         Street  CARS_INVOLVED  \\\n",
      "85066  332035200  1247                HYLAN BOULEVARD              2   \n",
      "48075  333244800  1238             ROCKAWAY BOULEVARD              2   \n",
      "98663  332985600   356  HUTCHINSON RIVER PARKWAY RAMP              1   \n",
      "80148  320284800  1429               CROSS BRONX EXPY              3   \n",
      "32822  316137600   251              GUY R BREWER BLVD              2   \n",
      "64940  317606400     5             GRAND CENTRAL PKWY              1   \n",
      "80320  331516800  1333                     121 STREET              5   \n",
      "16798  327801600   286                  BORDEN AVENUE              1   \n",
      "82203  320544000   104           HENRY HUDSON PARKWAY              1   \n",
      "82249  320976000   276                      FDR DRIVE              1   \n",
      "\n",
      "       BIKES_INVOLVED  MOTORBIKES_INVOLVED  Injuries  Deaths  \\\n",
      "85066               0                    0       6.0     3.0   \n",
      "48075               0                    0       4.0     2.0   \n",
      "98663               0                    0      40.0     0.0   \n",
      "80148               0                    0       2.0     2.0   \n",
      "32822               0                    0       5.0     1.0   \n",
      "64940               0                    0       5.0     1.0   \n",
      "80320               0                    0       5.0     1.0   \n",
      "16798               0                    0       0.0     3.0   \n",
      "82203               0                    0       0.0     3.0   \n",
      "82249               0                    0       1.0     2.0   \n",
      "\n",
      "       CARS_DANGERSCORE  BIKES_DANGERSCORE  MOTORBIKES_DANGERSCORE  \n",
      "85066         72.225846                0.0                     0.0  \n",
      "48075         58.804900                0.0                     0.0  \n",
      "98663         52.962530                0.0                     0.0  \n",
      "80148         50.531682                0.0                     0.0  \n",
      "32822         48.892627                0.0                     0.0  \n",
      "64940         48.892627                0.0                     0.0  \n",
      "80320         48.892627                0.0                     0.0  \n",
      "16798         47.037470                0.0                     0.0  \n",
      "82203         47.037470                0.0                     0.0  \n",
      "82249         45.693542                0.0                     0.0  \n"
     ]
    }
   ],
   "source": [
    "#print(new_df['CARS_DANGERSCORE'].max())\n",
    "top_10_rows = new_df.nlargest(10, 'CARS_DANGERSCORE')\n",
    "print(top_10_rows)"
   ]
  },
  {
   "cell_type": "code",
   "execution_count": 9,
   "id": "8b8eb7b8",
   "metadata": {},
   "outputs": [
    {
     "name": "stdout",
     "output_type": "stream",
     "text": [
      "            Date  Time                        Street  CARS_DANGERSCORE  \\\n",
      "0      337478400   159         WHITESTONE EXPRESSWAY         10.213851   \n",
      "1      322876800   705       QUEENSBORO BRIDGE UPPER          5.375711   \n",
      "2      331084800   415            THROGS NECK BRIDGE          0.000000   \n",
      "3      324518400   767  MAJOR DEEGAN EXPRESSWAY RAMP          0.000000   \n",
      "4      345600000  1025    BROOKLYN QUEENS EXPRESSWAY          0.000000   \n",
      "...          ...   ...                           ...               ...   \n",
      "99995  329270400  1285                 WATSON AVENUE          0.000000   \n",
      "99996  329270400  1005                SPRAGUE AVENUE          5.375711   \n",
      "99997  329356800     0                     94 AVENUE          0.000000   \n",
      "99998  329356800   797                      8 AVENUE          5.375711   \n",
      "99999  329443200  1275                     90 STREET          0.000000   \n",
      "\n",
      "       BIKES_DANGERSCORE  MOTORBIKES_DANGERSCORE  \n",
      "0               0.000000                     0.0  \n",
      "1               0.000000                     0.0  \n",
      "2               0.000000                     0.0  \n",
      "3               0.000000                     0.0  \n",
      "4               0.000000                     0.0  \n",
      "...                  ...                     ...  \n",
      "99995           0.000000                     0.0  \n",
      "99996           0.000000                     0.0  \n",
      "99997           0.000000                     0.0  \n",
      "99998           7.863471                     0.0  \n",
      "99999           0.000000                     0.0  \n",
      "\n",
      "[100000 rows x 6 columns]\n"
     ]
    }
   ],
   "source": [
    "needed_columns= ['Date', 'Time', 'Street','CARS_DANGERSCORE','BIKES_DANGERSCORE','MOTORBIKES_DANGERSCORE']\n",
    "\n",
    "df_for_model = pd.DataFrame.from_records(new_df[needed_columns])\n",
    "\n",
    "print(df_for_model)"
   ]
  },
  {
   "cell_type": "code",
   "execution_count": 10,
   "id": "f5151fe5",
   "metadata": {},
   "outputs": [],
   "source": [
    "# Preprocess the data for model training\n",
    "\n",
    "encoder = LabelEncoder()\n",
    "df_for_model['Street'] = encoder.fit_transform(df_for_model['Street'])  # Convert 'Street' column to numerical label"
   ]
  },
  {
   "cell_type": "code",
   "execution_count": 11,
   "id": "9f672db6",
   "metadata": {
    "scrolled": true
   },
   "outputs": [
    {
     "name": "stdout",
     "output_type": "stream",
     "text": [
      "Mean Absolute Error for car model (MAE): 3.4438070125246654\n",
      "Mean Squared Error (MSE) for car model: 18.887856435792994\n",
      "R-squared for car model: 0.0010470202838854803\n"
     ]
    }
   ],
   "source": [
    "# Train separate linear regression models for each vehicle type\n",
    "car_data = df_for_model[['Time', 'Date', 'Street', 'CARS_DANGERSCORE']].dropna()\n",
    "car_X = car_data[['Time', 'Date', 'Street']]\n",
    "car_y = car_data['CARS_DANGERSCORE']\n",
    "\n",
    "car_X_train, car_X_test, car_Y_train, car_Y_test = train_test_split(car_X, car_y, test_size=0.3)\n",
    "\n",
    "car_model = LinearRegression()\n",
    "car_model.fit(car_X_train, car_Y_train)\n",
    "\n",
    "car_predictions = car_model.predict(car_X_test)\n",
    "\n",
    "# Calculate the performance metrics\n",
    "mae = mean_absolute_error(car_Y_test, car_predictions)\n",
    "mse = mean_squared_error(car_Y_test, car_predictions)\n",
    "r2 = r2_score(car_Y_test, car_predictions)\n",
    "\n",
    "# Output the metrics\n",
    "print(f'Mean Absolute Error for car model (MAE): {mae}')\n",
    "print(f'Mean Squared Error (MSE) for car model: {mse}')\n",
    "print(f'R-squared for car model: {r2}')"
   ]
  },
  {
   "cell_type": "code",
   "execution_count": 12,
   "id": "f03ec486",
   "metadata": {
    "scrolled": true
   },
   "outputs": [
    {
     "name": "stdout",
     "output_type": "stream",
     "text": [
      "Mean Absolute Error for car model (MAE): 1.2229478764499566\n",
      "Mean Squared Error (MSE) for car model: 6.109568771390397\n",
      "R-squared for car model: 0.004255490747592128\n"
     ]
    }
   ],
   "source": [
    "# Train separate linear regression models for each vehicle type\n",
    "bike_data = df_for_model[['Time', 'Date', 'Street', 'BIKES_DANGERSCORE']].dropna()\n",
    "bike_X = bike_data[['Time', 'Date', 'Street']]\n",
    "bike_y = bike_data['BIKES_DANGERSCORE']\n",
    "\n",
    "bike_X_train, bike_X_test, bike_Y_train, bike_Y_test = train_test_split(bike_X, bike_y, test_size=0.2)\n",
    "\n",
    "bike_model = LinearRegression()\n",
    "bike_model.fit(bike_X_train, bike_Y_train)\n",
    "\n",
    "bike_predictions = bike_model.predict(bike_X_test)\n",
    "\n",
    "# Calculate the performance metrics\n",
    "mae = mean_absolute_error(bike_Y_test, bike_predictions)\n",
    "mse = mean_squared_error(bike_Y_test, bike_predictions)\n",
    "r2 = r2_score(bike_Y_test, bike_predictions)\n",
    "\n",
    "# Output the metrics\n",
    "print(f'Mean Absolute Error for car model (MAE): {mae}')\n",
    "print(f'Mean Squared Error (MSE) for car model: {mse}')\n",
    "print(f'R-squared for car model: {r2}')"
   ]
  },
  {
   "cell_type": "code",
   "execution_count": 13,
   "id": "24a408f4",
   "metadata": {},
   "outputs": [
    {
     "name": "stdout",
     "output_type": "stream",
     "text": [
      "Mean Absolute Error for car model (MAE): 0.4342392230556272\n",
      "Mean Squared Error (MSE) for car model: 2.7285385238127136\n",
      "R-squared for car model: 0.0014663982757765481\n"
     ]
    }
   ],
   "source": [
    "# Train separate linear regression models for each vehicle type\n",
    "motorbike_data = df_for_model[['Time', 'Date', 'Street', 'MOTORBIKES_DANGERSCORE']].dropna()\n",
    "motorbike_X = motorbike_data[['Time', 'Date', 'Street']]\n",
    "motorbike_y = motorbike_data['MOTORBIKES_DANGERSCORE']\n",
    "\n",
    "motorbike_X_train, motorbike_X_test, motorbike_Y_train, motorbike_Y_test = train_test_split(motorbike_X, motorbike_y, test_size=0.2)\n",
    "\n",
    "motorbike_model = LinearRegression()\n",
    "motorbike_model.fit(motorbike_X_train, motorbike_Y_train)\n",
    "\n",
    "motorbike_predictions = motorbike_model.predict(motorbike_X_test)\n",
    "\n",
    "# Calculate the performance metrics\n",
    "mae = mean_absolute_error(motorbike_Y_test, motorbike_predictions)\n",
    "mse = mean_squared_error(motorbike_Y_test, motorbike_predictions)\n",
    "r2 = r2_score(motorbike_Y_test, motorbike_predictions)\n",
    "\n",
    "# Output the metrics\n",
    "print(f'Mean Absolute Error for car model (MAE): {mae}')\n",
    "print(f'Mean Squared Error (MSE) for car model: {mse}')\n",
    "print(f'R-squared for car model: {r2}')"
   ]
  },
  {
   "cell_type": "code",
   "execution_count": 27,
   "id": "33d3b644",
   "metadata": {
    "scrolled": true
   },
   "outputs": [
    {
     "name": "stdout",
     "output_type": "stream",
     "text": [
      "The predicted danger score for cars at 542:00 on 330220800 on BROADWAY is 2.7620873660840743\n"
     ]
    },
    {
     "name": "stderr",
     "output_type": "stream",
     "text": [
      "C:\\Users\\maxsk\\AppData\\Local\\Temp\\ipykernel_18728\\218950551.py:27: UserWarning: Parsing dates in DD/MM/YYYY format when dayfirst=False (the default) was specified. This may lead to inconsistently parsed dates! Specify a format to ensure consistent parsing.\n",
      "  date = pd.to_datetime(date)\n",
      "C:\\Users\\maxsk\\anaconda3\\lib\\site-packages\\sklearn\\base.py:420: UserWarning: X does not have valid feature names, but LinearRegression was fitted with feature names\n",
      "  warnings.warn(\n"
     ]
    }
   ],
   "source": [
    "# Function to predict the danger score for a given combination of 'Time', 'Date', 'Street' and vehicle type\n",
    "def predict_danger_score(time, date, street, vehicle_type):   \n",
    "    street_label = encoder.transform([street])\n",
    "    data = np.asarray([[time, date, street_label]],order='K',dtype=object)\n",
    "    \n",
    "    if vehicle_type == 'cars':\n",
    "        model = car_model\n",
    "    elif vehicle_type == 'bikes':\n",
    "        model = bike_model\n",
    "    elif vehicle_type == 'motorbikes':\n",
    "        model = motorbike_model\n",
    "    else:\n",
    "        return None\n",
    "    \n",
    "    return model.predict(data)[0]\n",
    "\n",
    "def parseTime(time):\n",
    "    return time.hour * 60 + time.minute\n",
    "\n",
    "# Example usage\n",
    "time = '09:02'  # Example value for 'Time'\n",
    "date = '19/06/2020'  # Example value for 'Date'\n",
    "street = 'BROADWAY'  # Example value for 'Street'\n",
    "vehicle_type = 'cars'  # Example vehicle type\n",
    "\n",
    "# Preprocess the date column into timestamps\n",
    "date = pd.to_datetime(date)\n",
    "date = (date - pd.Timestamp(\"2010-01-01\")) // pd.Timedelta('1s')\n",
    "\n",
    "# Preprocess the time column into minutes from midnight\n",
    "time = pd.to_datetime(time, format='%H:%M').time()\n",
    "time = parseTime(time)\n",
    "\n",
    "predicted_score = predict_danger_score(time, date, street, vehicle_type)\n",
    "print(f\"The predicted danger score for {vehicle_type} at {time}:00 on {date} on {street} is {predicted_score}\")"
   ]
  },
  {
   "cell_type": "code",
   "execution_count": null,
   "id": "de22dfbd",
   "metadata": {},
   "outputs": [],
   "source": []
  }
 ],
 "metadata": {
  "kernelspec": {
   "display_name": "Python 3 (ipykernel)",
   "language": "python",
   "name": "python3"
  },
  "language_info": {
   "codemirror_mode": {
    "name": "ipython",
    "version": 3
   },
   "file_extension": ".py",
   "mimetype": "text/x-python",
   "name": "python",
   "nbconvert_exporter": "python",
   "pygments_lexer": "ipython3",
   "version": "3.10.9"
  }
 },
 "nbformat": 4,
 "nbformat_minor": 5
}
