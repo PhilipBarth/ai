{
 "cells": [
  {
   "cell_type": "code",
   "execution_count": 223,
   "id": "d83c11ac",
   "metadata": {},
   "outputs": [],
   "source": [
    "import pandas as pd\n",
    "from sklearn.preprocessing import MinMaxScaler\n",
    "from sklearn.ensemble import RandomForestRegressor\n",
    "from sklearn.metrics import mean_squared_error, mean_absolute_error, r2_score\n",
    "from sklearn.model_selection import train_test_split\n",
    "from sklearn.preprocessing import LabelEncoder, OneHotEncoder\n",
    "import numpy as np"
   ]
  },
  {
   "cell_type": "code",
   "execution_count": 209,
   "id": "c83f868c",
   "metadata": {},
   "outputs": [],
   "source": [
    "df = pd.read_csv('collisions.csv', low_memory=False)\n",
    "df['CRASH DATE'] = pd.to_datetime(df['CRASH DATE'])\n",
    "df['ON STREET NAME'] = df['ON STREET NAME'].str.upper().str.strip()"
   ]
  },
  {
   "cell_type": "code",
   "execution_count": 210,
   "id": "99deda27",
   "metadata": {},
   "outputs": [
    {
     "name": "stdout",
     "output_type": "stream",
     "text": [
      "     Day  Month  Danger Score Date\n",
      "0      1      1          64.295808\n",
      "1      1      2          80.938923\n",
      "2      1      3          87.282148\n",
      "3      1      4          77.704506\n",
      "4      1      5          79.839849\n",
      "..   ...    ...                ...\n",
      "361   31      5          88.035798\n",
      "362   31      7          93.468362\n",
      "363   31      8          87.784582\n",
      "364   31     10          90.783482\n",
      "365   31     12          73.528026\n",
      "\n",
      "[366 rows x 3 columns]\n"
     ]
    }
   ],
   "source": [
    "# calculate danger score per date\n",
    "\n",
    "grouped_by_date = df[['CRASH DATE']].copy().dropna()\n",
    "\n",
    "grouped_by_date['Month'] = grouped_by_date['CRASH DATE'].dt.month\n",
    "grouped_by_date['Day'] = grouped_by_date['CRASH DATE'].dt.day\n",
    "grouped_by_date = grouped_by_date[['Day', 'Month']]\n",
    "\n",
    "grouped_by_date = grouped_by_date.groupby(['Day', 'Month']).size().reset_index(name='Count')\n",
    "grouped_by_date['Danger Score Date'] = (grouped_by_date['Count'] / grouped_by_date['Count'].max()) * 100\n",
    "grouped_by_date = grouped_by_date[['Day', 'Month', 'Danger Score Date']]\n",
    "\n",
    "print(grouped_by_date)"
   ]
  },
  {
   "cell_type": "code",
   "execution_count": 211,
   "id": "738ea2c7",
   "metadata": {},
   "outputs": [
    {
     "name": "stdout",
     "output_type": "stream",
     "text": [
      "    CRASH TIME  Danger Score Time\n",
      "0            0          43.717088\n",
      "1            1          23.459492\n",
      "2            2          17.992164\n",
      "3            3          15.775360\n",
      "4            4          17.853917\n",
      "5            5          19.489948\n",
      "6            6          30.466981\n",
      "7            7          41.555167\n",
      "8            8          76.016006\n",
      "9            9          73.573423\n",
      "10          10          68.681311\n",
      "11          11          71.692857\n",
      "12          12          76.166062\n",
      "13          13          80.073083\n",
      "14          14          92.600697\n",
      "15          15          86.540786\n",
      "16          16         100.000000\n",
      "17          17          97.724841\n",
      "18          18          85.951676\n",
      "19          19          70.254123\n",
      "20          20          58.590027\n",
      "21          21          49.524127\n",
      "22          22          45.123171\n",
      "23          23          37.779445\n"
     ]
    }
   ],
   "source": [
    "# calculate danger score per hour\n",
    "\n",
    "grouped_by_time = df[['CRASH TIME']].copy().dropna()\n",
    "\n",
    "grouped_by_time['CRASH TIME'] = pd.to_datetime(grouped_by_time['CRASH TIME']).dt.hour;\n",
    "\n",
    "grouped_by_time = grouped_by_time[['CRASH TIME']].groupby(['CRASH TIME']).size().reset_index(name='Count')\n",
    "\n",
    "grouped_by_time['Danger Score Time'] = (grouped_by_time['Count'] / grouped_by_time['Count'].max()) * 100\n",
    "\n",
    "grouped_by_time = grouped_by_time[['CRASH TIME', 'Danger Score Time']]\n",
    "\n",
    "print(grouped_by_time)"
   ]
  },
  {
   "cell_type": "code",
   "execution_count": 212,
   "id": "92b90961",
   "metadata": {},
   "outputs": [
    {
     "name": "stdout",
     "output_type": "stream",
     "text": [
      "                              ON STREET NAME  Danger Score Street\n",
      "0                                                        0.078333\n",
      "1      1 278 ROBERT F KENNEDY BRIDGE N//2020             0.005222\n",
      "2            1 900 G ROBERT F KENNEDY BRIDGE             0.005222\n",
      "3                                      1 AVE             0.005222\n",
      "4                                   1 AVENUE            32.367225\n",
      "...                                      ...                  ...\n",
      "10644                            ZOLLER ROAD             0.062666\n",
      "10645                               ZOO PATH             0.005222\n",
      "10646                         ZULETTE AVENUE             0.344666\n",
      "10647                          ZWICKY AVENUE             0.020889\n",
      "10648                         ESTFARMS ROAD             0.005222\n",
      "\n",
      "[10649 rows x 2 columns]\n"
     ]
    }
   ],
   "source": [
    "# calculate danger score per Street\n",
    "\n",
    "grouped_by_street = df[['ON STREET NAME']].copy().dropna()\n",
    "\n",
    "grouped_by_street = grouped_by_street[['ON STREET NAME']].groupby(['ON STREET NAME']).size().reset_index(name='Count')\n",
    "\n",
    "grouped_by_street['Danger Score Street'] = (grouped_by_street['Count'] / grouped_by_street['Count'].max()) * 100\n",
    "grouped_by_street = grouped_by_street[['ON STREET NAME', 'Danger Score Street']]\n",
    "\n",
    "print(grouped_by_street)"
   ]
  },
  {
   "cell_type": "code",
   "execution_count": 213,
   "id": "a5ff62e7",
   "metadata": {},
   "outputs": [
    {
     "name": "stdout",
     "output_type": "stream",
     "text": [
      "         Day  Month  Hour                   Street  Danger Score Date  \\\n",
      "0         11      9     2    WHITESTONE EXPRESSWAY          92.102371   \n",
      "1         26      3    11  QUEENSBORO BRIDGE UPPER          77.107866   \n",
      "2         29      6     6       THROGS NECK BRIDGE          89.558800   \n",
      "3         11      9     9                    EMPTY          92.102371   \n",
      "4         14     12     8          SARATOGA AVENUE          97.911760   \n",
      "...      ...    ...   ...                      ...                ...   \n",
      "1987316   25      4    12          RICHMOND AVENUE          78.615167   \n",
      "1987317   18      4    21             EDSON AVENUE          76.919454   \n",
      "1987318   19      4     7           BEDFORD AVENUE          79.572931   \n",
      "1987319    3      4    15          NOSTRAND AVENUE          78.363950   \n",
      "1987320   25      4    19         ROOSEVELT AVENUE          78.615167   \n",
      "\n",
      "         Danger Score Time  Danger Score Street  Danger Score Total  \n",
      "0                17.992164            12.867513           40.987349  \n",
      "1                71.692857             1.958327           50.253017  \n",
      "2                30.466981             6.888088           42.304623  \n",
      "3                73.573423            50.000000           71.891931  \n",
      "4                76.016006             4.830539           59.586102  \n",
      "...                    ...                  ...                 ...  \n",
      "1987316          76.166062            20.324821           58.368684  \n",
      "1987317          49.524127             1.326440           42.590007  \n",
      "1987318          41.555167            31.004230           50.710776  \n",
      "1987319          86.540786            31.521228           65.475322  \n",
      "1987320          70.254123            17.217609           55.362300  \n",
      "\n",
      "[1987321 rows x 8 columns]\n"
     ]
    }
   ],
   "source": [
    "df_filtered = df[['CRASH DATE', 'CRASH TIME', 'ON STREET NAME']].copy()\n",
    "\n",
    "df_filtered['Day'] = df_filtered['CRASH DATE'].dt.day\n",
    "df_filtered['Month'] = df_filtered['CRASH DATE'].dt.month\n",
    "\n",
    "df_filtered = df_filtered[['Day', 'Month', 'CRASH TIME', 'ON STREET NAME']]\n",
    "\n",
    "\n",
    "df_filtered['CRASH TIME'] = pd.to_datetime(df_filtered['CRASH TIME']).dt.hour;\n",
    "\n",
    "df_filtered = pd.merge(df_filtered, grouped_by_date, on=['Day', 'Month'], how='left')\n",
    "df_filtered = pd.merge(df_filtered, grouped_by_time, on='CRASH TIME', how='left')\n",
    "df_filtered = pd.merge(df_filtered, grouped_by_street, on=['ON STREET NAME'], how='left')\n",
    "df_filtered = df_filtered.rename(columns={'CRASH TIME' : 'Hour', 'ON STREET NAME' : 'Street'})\n",
    "\n",
    "for column in ['Danger Score Time', 'Danger Score Date', 'Danger Score Street']:\n",
    "    df_filtered[column] = df_filtered[column].fillna(50)\n",
    "    \n",
    "\n",
    "df_filtered['Street'] = df_filtered['Street'].fillna('EMPTY')\n",
    "\n",
    "df_filtered['Danger Score Total'] = (df_filtered['Danger Score Date'] + df_filtered['Danger Score Street'] + df_filtered['Danger Score Time']) / 3\n",
    "\n",
    "print(df_filtered)"
   ]
  },
  {
   "cell_type": "code",
   "execution_count": 216,
   "id": "c788c894",
   "metadata": {},
   "outputs": [
    {
     "data": {
      "text/html": [
       "<style>#sk-container-id-5 {color: black;background-color: white;}#sk-container-id-5 pre{padding: 0;}#sk-container-id-5 div.sk-toggleable {background-color: white;}#sk-container-id-5 label.sk-toggleable__label {cursor: pointer;display: block;width: 100%;margin-bottom: 0;padding: 0.3em;box-sizing: border-box;text-align: center;}#sk-container-id-5 label.sk-toggleable__label-arrow:before {content: \"▸\";float: left;margin-right: 0.25em;color: #696969;}#sk-container-id-5 label.sk-toggleable__label-arrow:hover:before {color: black;}#sk-container-id-5 div.sk-estimator:hover label.sk-toggleable__label-arrow:before {color: black;}#sk-container-id-5 div.sk-toggleable__content {max-height: 0;max-width: 0;overflow: hidden;text-align: left;background-color: #f0f8ff;}#sk-container-id-5 div.sk-toggleable__content pre {margin: 0.2em;color: black;border-radius: 0.25em;background-color: #f0f8ff;}#sk-container-id-5 input.sk-toggleable__control:checked~div.sk-toggleable__content {max-height: 200px;max-width: 100%;overflow: auto;}#sk-container-id-5 input.sk-toggleable__control:checked~label.sk-toggleable__label-arrow:before {content: \"▾\";}#sk-container-id-5 div.sk-estimator input.sk-toggleable__control:checked~label.sk-toggleable__label {background-color: #d4ebff;}#sk-container-id-5 div.sk-label input.sk-toggleable__control:checked~label.sk-toggleable__label {background-color: #d4ebff;}#sk-container-id-5 input.sk-hidden--visually {border: 0;clip: rect(1px 1px 1px 1px);clip: rect(1px, 1px, 1px, 1px);height: 1px;margin: -1px;overflow: hidden;padding: 0;position: absolute;width: 1px;}#sk-container-id-5 div.sk-estimator {font-family: monospace;background-color: #f0f8ff;border: 1px dotted black;border-radius: 0.25em;box-sizing: border-box;margin-bottom: 0.5em;}#sk-container-id-5 div.sk-estimator:hover {background-color: #d4ebff;}#sk-container-id-5 div.sk-parallel-item::after {content: \"\";width: 100%;border-bottom: 1px solid gray;flex-grow: 1;}#sk-container-id-5 div.sk-label:hover label.sk-toggleable__label {background-color: #d4ebff;}#sk-container-id-5 div.sk-serial::before {content: \"\";position: absolute;border-left: 1px solid gray;box-sizing: border-box;top: 0;bottom: 0;left: 50%;z-index: 0;}#sk-container-id-5 div.sk-serial {display: flex;flex-direction: column;align-items: center;background-color: white;padding-right: 0.2em;padding-left: 0.2em;position: relative;}#sk-container-id-5 div.sk-item {position: relative;z-index: 1;}#sk-container-id-5 div.sk-parallel {display: flex;align-items: stretch;justify-content: center;background-color: white;position: relative;}#sk-container-id-5 div.sk-item::before, #sk-container-id-5 div.sk-parallel-item::before {content: \"\";position: absolute;border-left: 1px solid gray;box-sizing: border-box;top: 0;bottom: 0;left: 50%;z-index: -1;}#sk-container-id-5 div.sk-parallel-item {display: flex;flex-direction: column;z-index: 1;position: relative;background-color: white;}#sk-container-id-5 div.sk-parallel-item:first-child::after {align-self: flex-end;width: 50%;}#sk-container-id-5 div.sk-parallel-item:last-child::after {align-self: flex-start;width: 50%;}#sk-container-id-5 div.sk-parallel-item:only-child::after {width: 0;}#sk-container-id-5 div.sk-dashed-wrapped {border: 1px dashed gray;margin: 0 0.4em 0.5em 0.4em;box-sizing: border-box;padding-bottom: 0.4em;background-color: white;}#sk-container-id-5 div.sk-label label {font-family: monospace;font-weight: bold;display: inline-block;line-height: 1.2em;}#sk-container-id-5 div.sk-label-container {text-align: center;}#sk-container-id-5 div.sk-container {/* jupyter's `normalize.less` sets `[hidden] { display: none; }` but bootstrap.min.css set `[hidden] { display: none !important; }` so we also need the `!important` here to be able to override the default hidden behavior on the sphinx rendered scikit-learn.org. See: https://github.com/scikit-learn/scikit-learn/issues/21755 */display: inline-block !important;position: relative;}#sk-container-id-5 div.sk-text-repr-fallback {display: none;}</style><div id=\"sk-container-id-5\" class=\"sk-top-container\"><div class=\"sk-text-repr-fallback\"><pre>RandomForestRegressor(random_state=42)</pre><b>In a Jupyter environment, please rerun this cell to show the HTML representation or trust the notebook. <br />On GitHub, the HTML representation is unable to render, please try loading this page with nbviewer.org.</b></div><div class=\"sk-container\" hidden><div class=\"sk-item\"><div class=\"sk-estimator sk-toggleable\"><input class=\"sk-toggleable__control sk-hidden--visually\" id=\"sk-estimator-id-5\" type=\"checkbox\" checked><label for=\"sk-estimator-id-5\" class=\"sk-toggleable__label sk-toggleable__label-arrow\">RandomForestRegressor</label><div class=\"sk-toggleable__content\"><pre>RandomForestRegressor(random_state=42)</pre></div></div></div></div></div>"
      ],
      "text/plain": [
       "RandomForestRegressor(random_state=42)"
      ]
     },
     "execution_count": 216,
     "metadata": {},
     "output_type": "execute_result"
    }
   ],
   "source": [
    "# Random Forest Regressor\n",
    "le = LabelEncoder()\n",
    "#df_sampled = df_filtered[:100000].copy()\n",
    "df_sampled = df_filtered\n",
    "\n",
    "df_sampled['Street'] = le.fit_transform(df_sampled['Street'])\n",
    "\n",
    "features = df_sampled[['Day', 'Month', 'Hour', 'Street']]\n",
    "target = df_sampled[['Danger Score Time', 'Danger Score Date', 'Danger Score Street', 'Danger Score Total']]\n",
    "\n",
    "X_train, X_test, y_train, y_test = train_test_split(features, target, test_size=0.2, random_state=42)\n",
    "\n",
    "model = RandomForestRegressor(n_estimators=100, random_state=42)\n",
    "model.fit(X_train, y_train)"
   ]
  },
  {
   "cell_type": "code",
   "execution_count": 218,
   "id": "217ecc6c",
   "metadata": {},
   "outputs": [
    {
     "name": "stdout",
     "output_type": "stream",
     "text": [
      "Mean Squared Error: 3.385931948998256\n",
      "Mean Absolute Error: 0.7553776528824623\n",
      "R-squared Score: 0.9453928623186059\n"
     ]
    }
   ],
   "source": [
    "# Make predictions on the test set\n",
    "predictions = model.predict(X_test)\n",
    "\n",
    "# Calculate the mean squared error\n",
    "mse = mean_squared_error(y_test, predictions)\n",
    "\n",
    "# Calculate the mean absolute error\n",
    "mae = mean_absolute_error(y_test, predictions)\n",
    "\n",
    "# Calculate the r-squared score\n",
    "r2 = r2_score(y_test, predictions)\n",
    "\n",
    "print('Mean Squared Error:', mse)\n",
    "print('Mean Absolute Error:', mae)\n",
    "print('R-squared Score:', r2)"
   ]
  },
  {
   "cell_type": "code",
   "execution_count": 247,
   "id": "c95ee2a1",
   "metadata": {},
   "outputs": [],
   "source": [
    "def predict_danger_score(day, month, time, street):\n",
    "    # Convert street to uppercase\n",
    "    street = street.upper().strip()\n",
    "\n",
    "    # Encode street using the LabelEncoder if it exists in the classes -> otherwise EMPTY\n",
    "    if street in le.classes_:\n",
    "        street_encoded = le.transform([street])[0]\n",
    "    else:\n",
    "        street_encoded = le.transform(['EMPTY'])[0]\n",
    "\n",
    "    # Create input data for prediction\n",
    "    input_data = pd.DataFrame([[day, month, time, street_encoded]], columns=['Day', 'Month', 'Hour', 'Street'])\n",
    "\n",
    "    # Make predictions\n",
    "    predictions = model.predict(input_data)\n",
    "\n",
    "    # Return the predicted danger score\n",
    "    return predictions[0]"
   ]
  },
  {
   "cell_type": "code",
   "execution_count": 248,
   "id": "0ddcee05",
   "metadata": {},
   "outputs": [
    {
     "name": "stdout",
     "output_type": "stream",
     "text": [
      "Predicted Danger Score Total: [30.46698067 86.55989951 50.         55.67562673]\n"
     ]
    }
   ],
   "source": [
    "test_day = 9\n",
    "test_month = 7\n",
    "test_timeslot = 6\n",
    "test_street = 'Broadway'\n",
    "\n",
    "predicted_score = predict_danger_score(test_day, test_month, test_timeslot, test_street)\n",
    "print('Predicted Danger Score Total:', predicted_score)"
   ]
  }
 ],
 "metadata": {
  "kernelspec": {
   "display_name": "Python 3 (ipykernel)",
   "language": "python",
   "name": "python3"
  },
  "language_info": {
   "codemirror_mode": {
    "name": "ipython",
    "version": 3
   },
   "file_extension": ".py",
   "mimetype": "text/x-python",
   "name": "python",
   "nbconvert_exporter": "python",
   "pygments_lexer": "ipython3",
   "version": "3.10.9"
  }
 },
 "nbformat": 4,
 "nbformat_minor": 5
}
